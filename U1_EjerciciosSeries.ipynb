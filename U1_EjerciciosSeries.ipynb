{
  "nbformat": 4,
  "nbformat_minor": 0,
  "metadata": {
    "colab": {
      "provenance": [],
      "include_colab_link": true
    },
    "kernelspec": {
      "name": "python3",
      "display_name": "Python 3"
    },
    "language_info": {
      "name": "python"
    }
  },
  "cells": [
    {
      "cell_type": "markdown",
      "metadata": {
        "id": "view-in-github",
        "colab_type": "text"
      },
      "source": [
        "<a href=\"https://colab.research.google.com/github/CesarRodriguez19/EstadisticaVerano/blob/main/U1_EjerciciosSeries.ipynb\" target=\"_parent\"><img src=\"https://colab.research.google.com/assets/colab-badge.svg\" alt=\"Open In Colab\"/></a>"
      ]
    },
    {
      "cell_type": "markdown",
      "source": [
        "## Operaciones con Series"
      ],
      "metadata": {
        "id": "P92zIggcxbwg"
      }
    },
    {
      "cell_type": "markdown",
      "source": [
        "Un grupo de estudiantes registró las horas que dedicaron a estudiar durante una semana. Los datos (en horas) son los siguientes:\n",
        "\n",
        "Datos: `0, 3, 3, 2, 4, 5, 1, 2, 1, 6, 0, 5, 2`\n",
        "\n",
        "Calcula la media del número de horas estudiadas.\n",
        "\n",
        "Calcula la varianza de los datos.\n",
        "\n",
        "Calcula la desviación estándar.\n",
        "\n",
        "¿La varianza y la desviación estándar corresponden a una muestra o a una población?"
      ],
      "metadata": {
        "id": "wDmgCOx_xmYK"
      }
    },
    {
      "cell_type": "code",
      "execution_count": null,
      "metadata": {
        "id": "utRBPnGYxYBS",
        "outputId": "05d9c7c9-e78a-4270-bdec-01f8fa421989",
        "colab": {
          "base_uri": "https://localhost:8080/"
        }
      },
      "outputs": [
        {
          "output_type": "stream",
          "name": "stdout",
          "text": [
            "[0, 3, 3, 2, 4, 5, 1, 2, 1, 6, 0, 5, 2]\n",
            " El promedio es=\n",
            "2.6153846153846154\n",
            "\n",
            "\n",
            "3.756410256410257\n",
            "\n",
            "\n",
            "1.9381460874790262\n"
          ]
        }
      ],
      "source": [
        "datos=[0,3,3,2,4,5,1,2,1,6,0,5,2]\n",
        "import pandas as pd\n",
        "serie_datos=pd.Series(datos)\n",
        "print(datos)\n",
        "print(\" El promedio es=\")\n",
        "print(serie_datos.mean())\n",
        "\n",
        "print(\"\\n\")\n",
        "print(serie_datos.var())\n",
        "print(\"\\n\")\n",
        "print(serie_datos.std())"
      ]
    },
    {
      "cell_type": "markdown",
      "source": [
        "variansa muestral"
      ],
      "metadata": {
        "id": "yUKDHLoJ1mDv"
      }
    },
    {
      "cell_type": "markdown",
      "source": [
        "Usando los datos del ejercicio anterior, realiza lo siguiente:\n",
        "\n",
        "Sumale 2 a cada uno de los elementos\n",
        "\n",
        "Multiplica por 3 cada uno de los elementos\n",
        "\n",
        "Eleva al cuadrado cada uno de los elementos\n",
        "\n"
      ],
      "metadata": {
        "id": "KJ9u-DhK3uMO"
      }
    },
    {
      "cell_type": "code",
      "source": [
        "print(\"Datos mas 2=\")\n",
        "print(serie_datos+2)\n",
        "print(\"Datos multiplicados por 3=\")\n",
        "print(serie_datos*3)\n",
        "print(\"Datos elevados al cuadrado =\")\n",
        "print(serie_datos**2)\n"
      ],
      "metadata": {
        "id": "yJQYMqF03yRb",
        "outputId": "00e00cd9-5fbb-4866-ad9a-9f96e42df0e2",
        "colab": {
          "base_uri": "https://localhost:8080/"
        }
      },
      "execution_count": null,
      "outputs": [
        {
          "output_type": "stream",
          "name": "stdout",
          "text": [
            "Datos mas 2=\n",
            "0     2\n",
            "1     5\n",
            "2     5\n",
            "3     4\n",
            "4     6\n",
            "5     7\n",
            "6     3\n",
            "7     4\n",
            "8     3\n",
            "9     8\n",
            "10    2\n",
            "11    7\n",
            "12    4\n",
            "dtype: int64\n",
            "Datos multiplicados por 3=\n",
            "0      0\n",
            "1      9\n",
            "2      9\n",
            "3      6\n",
            "4     12\n",
            "5     15\n",
            "6      3\n",
            "7      6\n",
            "8      3\n",
            "9     18\n",
            "10     0\n",
            "11    15\n",
            "12     6\n",
            "dtype: int64\n",
            "Datos elevados al cuadrado =\n",
            "0      0\n",
            "1      9\n",
            "2      9\n",
            "3      4\n",
            "4     16\n",
            "5     25\n",
            "6      1\n",
            "7      4\n",
            "8      1\n",
            "9     36\n",
            "10     0\n",
            "11    25\n",
            "12     4\n",
            "dtype: int64\n"
          ]
        }
      ]
    },
    {
      "cell_type": "markdown",
      "source": [
        "Usando los datos del primer ejercicio, realiza lo siguiente:\n",
        "\n",
        "Resta 5 a cada uno de los elementos y realiza la suma de los elementos resultantes\n",
        "\n",
        "Multiplica por 2 cada uno de los elementos y realiza la suma\n",
        "\n",
        "Eleva al cuadrado cada uno de los elementos y después realiza la suma de los elementos resultantes\n",
        "\n",
        "Realiza la suma de los elementos y después eleva al cuadrado"
      ],
      "metadata": {
        "id": "apcmieWx4D7e"
      }
    },
    {
      "cell_type": "code",
      "source": [
        "datos=[0,3,3,2,4,5,1,2,1,6,0,5,2]\n",
        "import pandas as pd\n",
        "serie_datos=pd.Series(datos)\n",
        "serie_datos-5\n",
        "print(\"Datos se le resta a cada uno 5 y suma de elementos\")\n",
        "print((serie_datos-5).sum())\n",
        "\n",
        "print(\"Datos se multiplica por 2 y realizo la suma\")\n",
        "print((serie_datos*2).sum())\n",
        "\n",
        "print(\"Datos se elevan al cuadrado y suma de los elementos\")\n",
        "print((serie_datos**2).sum())\n",
        "\n",
        "print(\"Datos se suma de los elementos y despues se eleva al cuadrado\")\n",
        "print((serie_datos.sum())**2)"
      ],
      "metadata": {
        "id": "9LFCPshT4wF7",
        "outputId": "6216efd6-c0c6-4d53-b3d8-f7a5829aca90",
        "colab": {
          "base_uri": "https://localhost:8080/"
        }
      },
      "execution_count": null,
      "outputs": [
        {
          "output_type": "stream",
          "name": "stdout",
          "text": [
            "Datos se le resta a cada uno 5 y suma de elementos\n",
            "-31\n",
            "Datos se multiplica por 2 y realizo la suma\n",
            "68\n",
            "Datos se elevan al cuadrado y suma de los elementos\n",
            "134\n",
            "Datos se suma de los elementos y despues se eleva al cuadrado\n",
            "1156\n"
          ]
        }
      ]
    },
    {
      "cell_type": "code",
      "source": [],
      "metadata": {
        "id": "-qUNkrOE6ill"
      },
      "execution_count": null,
      "outputs": []
    }
  ]
}